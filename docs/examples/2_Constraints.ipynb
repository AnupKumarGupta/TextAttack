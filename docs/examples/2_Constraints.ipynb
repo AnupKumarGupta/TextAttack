{
 "cells": [
  {
   "cell_type": "markdown",
   "metadata": {},
   "source": [
    "# The importance of constraints\n",
    "\n",
    "Constraints determine which potential adversarial examples are valid inputs to the model. When determining the efficacy of an attack, constraints are everything. After all, an attack that looks very powerful may just be generating nonsense. Or, perhaps more nefariously, an attack may generate a real-looking example that changes the original label of the input. That's why you should always clearly define the *constraints* your adversarial examples must meet. \n",
    "\n",
    "### Classes of constraints\n",
    "\n",
    "TextAttack evaluates constraints using methods from three groups:\n",
    "\n",
    "- **Overlap constraints** determine if a perturbation is valid based on character-level analysis. For example, some attacks are constrained by edit distance: a perturbation is only valid if it perturbs some small number of characters (or fewer).\n",
    "\n",
    "- **Grammaticality constraints** filter inputs based on syntactical information. For example, an attack may require that adversarial perturbations do not introduce grammatical errors.\n",
    "\n",
    "- **Semantic constraints** try to ensure that the perturbation is semantically similar to the original input. For example, we may design a constraint that uses a sentence encoder to encode the original and perturbed inputs, and enforce that the sentence encodings be within some fixed distance of one another. (This is what happens in subclasses of `textattack.constraints.semantics.sentence_encoders`.)"
   ]
  },
  {
   "cell_type": "markdown",
   "metadata": {},
   "source": [
    "### A new constraint\n",
    "\n",
    "To add our own constraint, we need to create a subclass of `textattack.constraints.Constraint`. We can implement one of two functions, either `_check_constarint` or `_check_constraint_many`:\n",
    "\n",
    "- `_check_constraint` determines whether candidate `TokenizedText` `transformed_text`, transformed from `current_text`, fulfills a desired constraint. It returns either `True` or `False`.\n",
    "- `_check_constraint_many` determines whether each of a list of candidates `transformed_texts` fulfill the constraint relative to `current_text`. This is here in case your constraint can be vectorized. If not, just implement `_check_constraint`, and `_check_constraint` will be executed for each `(transformed_text, current_text)` pair."
   ]
  },
  {
   "cell_type": "markdown",
   "metadata": {},
   "source": [
    "### A custom constraint\n",
    "\n",
    "\n",
    "For fun, we're going to see what happens when we constrain an attack to only allow perturbations that substitute out a named entity for another. In linguistics, a **named entity** is a proper noun, the name of a person, organization, location, product, etc. Named Entity Recognition is a popular NLP task (and one that state-of-the-art models can perform quite well). \n",
    "\n",
    "\n",
    "### NLTK and Named Entity Recognition\n",
    "\n",
    "**NLTK**, the Natural Language Toolkit, is a Python package that helps developers write programs that process natural language. NLTK comes with predefined algorithms for lots of linguistic tasks– including Named Entity Recognition.\n",
    "\n",
    "First, we're going to write a constraint class. In the `_check_constraints` method, we're going to use NLTK to find the named entities in both `current_text` and `transformed_text`. We will only return `True` (that is, our constraint is met) if `transformed_text` has substituted one named entity in `current_text` for another.\n",
    "\n",
    "Let's import NLTK and download the required modules:"
   ]
  },
  {
   "cell_type": "code",
   "execution_count": 1,
   "metadata": {},
   "outputs": [
    {
     "name": "stderr",
     "output_type": "stream",
     "text": [
      "[nltk_data] Downloading package punkt to /u/edl9cy/nltk_data...\n",
      "[nltk_data]   Package punkt is already up-to-date!\n",
      "[nltk_data] Downloading package maxent_ne_chunker to\n",
      "[nltk_data]     /u/edl9cy/nltk_data...\n",
      "[nltk_data]   Package maxent_ne_chunker is already up-to-date!\n",
      "[nltk_data] Downloading package words to /u/edl9cy/nltk_data...\n",
      "[nltk_data]   Package words is already up-to-date!\n"
     ]
    },
    {
     "data": {
      "text/plain": [
       "True"
      ]
     },
     "execution_count": 1,
     "metadata": {},
     "output_type": "execute_result"
    }
   ],
   "source": [
    "import nltk\n",
    "nltk.download('punkt') # The NLTK tokenizer\n",
    "nltk.download('maxent_ne_chunker') # NLTK named-entity chunker\n",
    "nltk.download('words') # NLTK list of words"
   ]
  },
  {
   "cell_type": "markdown",
   "metadata": {},
   "source": [
    "### NLTK NER Example\n",
    "\n",
    "Here's an example of using NLTK to find the named entities in a sentence:"
   ]
  },
  {
   "cell_type": "code",
   "execution_count": 2,
   "metadata": {},
   "outputs": [
    {
     "name": "stdout",
     "output_type": "stream",
     "text": [
      "(S\n",
      "  In/IN\n",
      "  2017/CD\n",
      "  ,/,\n",
      "  star/NN\n",
      "  quarterback/NN\n",
      "  (PERSON Tom/NNP Brady/NNP)\n",
      "  led/VBD\n",
      "  the/DT\n",
      "  (ORGANIZATION Patriots/NNP)\n",
      "  to/TO\n",
      "  the/DT\n",
      "  (ORGANIZATION Super/NNP Bowl/NNP)\n",
      "  ,/,\n",
      "  but/CC\n",
      "  lost/VBD\n",
      "  to/TO\n",
      "  the/DT\n",
      "  (ORGANIZATION Philadelphia/NNP Eagles/NNP)\n",
      "  ./.)\n"
     ]
    }
   ],
   "source": [
    "sentence = ('In 2017, star quarterback Tom Brady led the Patriots to the Super Bowl, '\n",
    "           'but lost to the Philadelphia Eagles.')\n",
    "\n",
    "# 1. Tokenize using the NLTK tokenizer.\n",
    "tokens = nltk.word_tokenize(sentence)\n",
    "\n",
    "# 2. Tag parts of speech using the NLTK part-of-speech tagger.\n",
    "tagged = nltk.pos_tag(tokens)\n",
    "\n",
    "# 3. Extract entities from tagged sentence.\n",
    "entities = nltk.chunk.ne_chunk(tagged)\n",
    "print(entities)"
   ]
  },
  {
   "cell_type": "markdown",
   "metadata": {},
   "source": [
    "It looks like `nltk.chunk.ne_chunk` gives us an `nltk.tree.Tree` object where named entities are also `nltk.tree.Tree` objects within that tree. We can take this a step further and grab the named entities from the tree of entities:"
   ]
  },
  {
   "cell_type": "code",
   "execution_count": 3,
   "metadata": {},
   "outputs": [
    {
     "name": "stdout",
     "output_type": "stream",
     "text": [
      "[Tree('PERSON', [('Tom', 'NNP'), ('Brady', 'NNP')]), Tree('ORGANIZATION', [('Patriots', 'NNP')]), Tree('ORGANIZATION', [('Super', 'NNP'), ('Bowl', 'NNP')]), Tree('ORGANIZATION', [('Philadelphia', 'NNP'), ('Eagles', 'NNP')])]\n"
     ]
    }
   ],
   "source": [
    "# 4. Filter entities to just named entities.\n",
    "named_entities = [entity for entity in entities if isinstance(entity, nltk.tree.Tree)]\n",
    "print(named_entities)"
   ]
  },
  {
   "cell_type": "markdown",
   "metadata": {},
   "source": [
    "### Caching with `@functools.lru_cache`\n",
    "\n",
    "A little-known feature of Python 3 is `functools.lru_cache`, a decorator that allows users to easily cache the results of a function in an LRU cache. We're going to be using the NLTK library quite a bit to tokenize, parse, and detect named entities in sentences. These sentences might repeat themselves. As such, we'll use this decorator to cache named entities so that we don't have to perform this expensive computation multiple times."
   ]
  },
  {
   "cell_type": "markdown",
   "metadata": {},
   "source": [
    "### Putting it all together: getting a list of Named Entity Labels from a sentence\n",
    "\n",
    "Now that we know how to tokenize, parse, and detect named entities using NLTK, let's put it all together into a single helper function. Later, when we implement our constraint, we can query this function to easily get the entity labels from a sentence. We can even use `@functools.lru_cache` to try and speed this process up."
   ]
  },
  {
   "cell_type": "code",
   "execution_count": 4,
   "metadata": {
    "collapsed": true
   },
   "outputs": [],
   "source": [
    "import functools\n",
    "\n",
    "@functools.lru_cache(maxsize=2**14)\n",
    "def get_entities(sentence):\n",
    "    tokens = nltk.word_tokenize(sentence)\n",
    "    tagged = nltk.pos_tag(tokens)\n",
    "    # Setting `binary=True` makes NLTK return all of the named\n",
    "    # entities tagged as NNP instead of detailed tags like\n",
    "    #'Organization', 'Geo-Political Entity', etc.\n",
    "    entities = nltk.chunk.ne_chunk(tagged, binary=True)\n",
    "    return entities.leaves()"
   ]
  },
  {
   "cell_type": "markdown",
   "metadata": {},
   "source": [
    "And let's test our function to make sure it works:"
   ]
  },
  {
   "cell_type": "code",
   "execution_count": 5,
   "metadata": {},
   "outputs": [
    {
     "data": {
      "text/plain": [
       "[('Jack', 'NNP'),\n",
       " ('Black', 'NNP'),\n",
       " ('starred', 'VBD'),\n",
       " ('in', 'IN'),\n",
       " ('the', 'DT'),\n",
       " ('2003', 'CD'),\n",
       " ('film', 'NN'),\n",
       " ('classic', 'JJ'),\n",
       " ('``', '``'),\n",
       " ('School', 'NNP'),\n",
       " ('of', 'IN'),\n",
       " ('Rock', 'NNP'),\n",
       " (\"''\", \"''\"),\n",
       " ('.', '.')]"
      ]
     },
     "execution_count": 5,
     "metadata": {},
     "output_type": "execute_result"
    }
   ],
   "source": [
    "sentence = 'Jack Black starred in the 2003 film classic \"School of Rock\".'\n",
    "get_entities(sentence)"
   ]
  },
  {
   "cell_type": "markdown",
   "metadata": {},
   "source": [
    "We flattened the tree of entities, so the return format is a list of `(word, entity type)` tuples. For non-entities, the `entity_type` is just the part of speech of the word. `'NNP'` is the indicator of a named entity (a proper noun, according to NLTK). Looks like we identified three named entities here: 'Jack' and 'Black', 'School', and 'Rock'. as a 'GPE'. (Seems that the labeler thinks Rock is the name of a place, a city or something.) Whatever technique NLTK uses for named entity recognition may be a bit rough, but it did a pretty decent job here!"
   ]
  },
  {
   "cell_type": "markdown",
   "metadata": {},
   "source": [
    "### Creating our NamedEntityConstraint\n",
    "\n",
    "Now that we know how to detect named entities using NLTK, let's create our custom constraint."
   ]
  },
  {
   "cell_type": "code",
   "execution_count": null,
   "metadata": {
    "collapsed": true
   },
   "outputs": [],
   "source": [
    "from textattack.constraints import Constraint\n",
    "\n",
    "class NamedEntityConstraint(Constraint):\n",
    "    \"\"\" A constraint that ensures `transformed_text` only substitutes named entities from `current_text` with other named entities.\n",
    "    \"\"\"\n",
    "    def _check_constraint(self, tranformed_text, current_text, original_text=None):\n",
    "        transformed_entities = get_entities(transformed_text.text)\n",
    "        current_entities = get_entities(current_text.text)\n",
    "        # If there aren't named entities, let's return False (the attack\n",
    "        # will eventually fail).\n",
    "        if len(current_entities) == 0:\n",
    "            return False\n",
    "        if len(current_entities) != len(transformed_entities):\n",
    "            # If the two sentences have a different number of entities, then \n",
    "            # they definitely don't have the same labels. In this case, the \n",
    "            # constraint is violated, and we return False.\n",
    "            return False\n",
    "        else:\n",
    "            # Here we compare all of the words, in order, to make sure that they match.\n",
    "            # If we find two words that don't match, this means a word was swapped \n",
    "            # between `current_text` and `transformed_text`. That word must be a named entity to fulfill our\n",
    "            # constraint.\n",
    "            current_word_label = None\n",
    "            transformed_word_label = None\n",
    "            for (word_1, label_1), (word_2, label_2) in zip(current_entities, transformed_entities):\n",
    "                if word_1 != word_2:\n",
    "                    # Finally, make sure that words swapped between `x` and `x_adv` are named entities. If \n",
    "                    # they're not, then we also return False.\n",
    "                    if (label_1 not in ['NNP', 'NE']) or (label_2 not in ['NNP', 'NE']):\n",
    "                        return False            \n",
    "            # If we get here, all of the labels match up. Return True!\n",
    "            return True\n",
    "    "
   ]
  },
  {
   "cell_type": "markdown",
   "metadata": {
    "collapsed": true
   },
   "source": [
    "### Testing our constraint\n",
    "\n",
    "We need to create an attack and a dataset to test our constraint on. We went over all of this in the first tutorial, so let's gloss over this part for now."
   ]
  },
  {
   "cell_type": "code",
   "execution_count": 7,
   "metadata": {},
   "outputs": [
    {
     "name": "stderr",
     "output_type": "stream",
     "text": [
      "\u001b[34;1mtextattack\u001b[0m: Goal function <class 'textattack.goal_functions.classification.untargeted_classification.UntargetedClassification'> matches model LSTMForYelpSentimentClassification.\n"
     ]
    }
   ],
   "source": [
    "# Import the dataset.\n",
    "from textattack.datasets.classification import YelpSentiment\n",
    "# Create the model.\n",
    "from textattack.models.classification.lstm import LSTMForYelpSentimentClassification\n",
    "model = LSTMForYelpSentimentClassification()\n",
    "# Create the goal function using the model.\n",
    "from textattack.goal_functions import UntargetedClassification\n",
    "goal_function = UntargetedClassification(model)"
   ]
  },
  {
   "cell_type": "code",
   "execution_count": 8,
   "metadata": {},
   "outputs": [
    {
     "name": "stdout",
     "output_type": "stream",
     "text": [
      "Attack(\n",
      "  (search_method): GreedySearch\n",
      "  (goal_function):  UntargetedClassification\n",
      "  (transformation):  WordSwapEmbedding(\n",
      "    (max_candidates):  15\n",
      "    (embedding_type):  paragramcf\n",
      "  )\n",
      "  (constraints): \n",
      "    (0): NamedEntityConstraint\n",
      "    (1): RepeatModification\n",
      "    (2): StopwordModification\n",
      "  (is_black_box):  True\n",
      ")\n"
     ]
    }
   ],
   "source": [
    "from textattack.transformations import WordSwapEmbedding\n",
    "from textattack.search_methods import GreedySearch\n",
    "from textattack.shared import Attack\n",
    "from textattack.constraints.pre_transformation import RepeatModification, StopwordModification\n",
    "\n",
    "# We're going to the `WordSwapEmbedding` transformation. Using the default settings, this\n",
    "# will try substituting words with their neighbors in the counter-fitted embedding space. \n",
    "transformation = WordSwapEmbedding(max_candidates=15) \n",
    "\n",
    "# We'll use the greedy search method again\n",
    "search_method = GreedySearch()\n",
    "\n",
    "# Our constraints will be the same as Tutorial 1, plus the named entity constraint\n",
    "constraints = [RepeatModification(),\n",
    "               StopwordModification(),\n",
    "               NamedEntityConstraint()]\n",
    "\n",
    "# Now, let's make the attack using these parameters. \n",
    "attack = Attack(goal_function, constraints, transformation, search_method)\n",
    "\n",
    "print(attack)"
   ]
  },
  {
   "cell_type": "code",
   "execution_count": 9,
   "metadata": {},
   "outputs": [
    {
     "data": {
      "text/plain": [
       "True"
      ]
     },
     "execution_count": 9,
     "metadata": {},
     "output_type": "execute_result"
    }
   ],
   "source": [
    "import torch\n",
    "torch.cuda.is_available()"
   ]
  },
  {
   "cell_type": "markdown",
   "metadata": {},
   "source": [
    "Now, let's use our attack. We're going to iterate through the `YelpSentiment` dataset and attack samples until we achieve 10 successes. (There's a lot to check here, and since we're using a greedy search over all potential word swap positions, each sample will take a few minutes. This will take a few hours to run on a single core.)"
   ]
  },
  {
   "cell_type": "code",
   "execution_count": null,
   "metadata": {
    "collapsed": true,
    "scrolled": false
   },
   "outputs": [],
   "source": [
    "from textattack.loggers import CSVLogger # tracks a dataframe for us.\n",
    "from textattack.attack_results import SuccessfulAttackResult\n",
    "\n",
    "results_iterable = attack.attack_dataset(YelpSentiment(), attack_n=True)\n",
    "logger = CSVLogger(color_method='html')\n",
    "\n",
    "num_successes = 0\n",
    "while num_successes < 10:\n",
    "    result = next(results_iterable)\n",
    "    if isinstance(result, SuccessfulAttackResult):\n",
    "        logger.log_attack_result(result)\n",
    "        num_successes += 1"
   ]
  },
  {
   "cell_type": "markdown",
   "metadata": {},
   "source": [
    "Now let's visualize our 10 successes in color:"
   ]
  },
  {
   "cell_type": "code",
   "execution_count": 42,
   "metadata": {},
   "outputs": [
    {
     "data": {
      "text/html": [
       "<table border=\"1\" class=\"dataframe\">\n",
       "  <thead>\n",
       "    <tr style=\"text-align: right;\">\n",
       "      <th></th>\n",
       "      <th>original_text</th>\n",
       "      <th>perturbed_text</th>\n",
       "    </tr>\n",
       "  </thead>\n",
       "  <tbody>\n",
       "    <tr>\n",
       "      <th>0</th>\n",
       "      <td><font color = red>Quick</font> attentive bartenders. No Convenient parking. No Patrons above the age of 24. No Hot waitresses. No. Slow Waitresses. Yes. Everlasting brodeo. Yes. Dirty Bathrooms. Yes. Douchebaggery all around. Yes. Unfresh oysters. Yes. $3 kiltlifter. Yes. Asshole cops that follow you home afterwards. Yes. I decided that I pretty much hate this place. Sorry, I just do.</td>\n",
       "      <td><font color = green>Speedily</font> attentive bartenders. No Convenient parking. No Patrons above the age of 24. No Hot waitresses. No. Slow Waitresses. Yes. Everlasting brodeo. Yes. Dirty Bathrooms. Yes. Douchebaggery all around. Yes. Unfresh oysters. Yes. $3 kiltlifter. Yes. Asshole cops that follow you home afterwards. Yes. I decided that I pretty much hate this place. Sorry, I just do.</td>\n",
       "    </tr>\n",
       "    <tr>\n",
       "      <th>1</th>\n",
       "      <td>On Yelp there are 5-6 Paradise restaurants in Vegas. Which one is the original? Who cares?! :) I came to this one as the only place you pass from the Monorail to the trade show conference down the hall is the Foruna coffee and wine place. The only thing fortunate was to avoid its yucky looking pastries. U-<font color = red>turn</font> back and keep right instead of heading back to the Monorail and you will hit <font color = red>Paradise</font>. I sat at the bar and stared at the hazy looking brownish restaurant. It felt like <font color = red>Canter</font>'s in L.A. (which is one of the oldest in the city!?) <font color = red>Service</font> wasn't great here. One lady gave me a menu; then she gave me the takeout menu (clearly marked with the gouging 18% gratuity added.) Then another lady came and took my order. I ordered the healthy option. <font color = red>Water</font>/ <font color = red>Joke</font>. Oatmeal with dried cherries and coffee. It came in a neat recycled cardboard holder with 2 cups (coffee and oatmeal) and 3 little containers. Milk for the oatmeal but I used it for the coffee; 2 brown sugars. Stirring the oatmeal there was no sign of the cherries so I checked the gouging menu and then asked waitress #1 where they were. It seems #2 forgot. Anyway the dried cherries transformed into tiny prunes. That was even better on the healthy quota. Overall, not thrilled with my dining experience here, but the food was ok. Of course I paid $11 for the pleasure. $3 for coffee - cheaper than the Starbucks in the Harrah's - $6 for oatmeal. $1.50 for tip.</td>\n",
       "      <td>On Yelp there are 5-6 Paradise restaurants in Vegas. Which one is the original? Who cares?! :) I came to this one as the only place you pass from the Monorail to the trade show conference down the hall is the Foruna coffee and wine place. The only thing fortunate was to avoid its yucky looking pastries. U-<font color = green>transforming</font> back and keep right instead of heading back to the Monorail and you will hit <font color = green>Heavens</font>. I sat at the bar and stared at the hazy looking brownish restaurant. It felt like <font color = green>Pirouette</font>'s in L.A. (which is one of the oldest in the city!?) <font color = green>Department</font> wasn't great here. One lady gave me a menu; then she gave me the takeout menu (clearly marked with the gouging 18% gratuity added.) Then another lady came and took my order. I ordered the healthy option. <font color = green>Eau</font>/ <font color = green>Giggle</font>. Oatmeal with dried cherries and coffee. It came in a neat recycled cardboard holder with 2 cups (coffee and oatmeal) and 3 little containers. Milk for the oatmeal but I used it for the coffee; 2 brown sugars. Stirring the oatmeal there was no sign of the cherries so I checked the gouging menu and then asked waitress #1 where they were. It seems #2 forgot. Anyway the dried cherries transformed into tiny prunes. That was even better on the healthy quota. Overall, not thrilled with my dining experience here, but the food was ok. Of course I paid $11 for the pleasure. $3 for coffee - cheaper than the Starbucks in the Harrah's - $6 for oatmeal. $1.50 for tip.</td>\n",
       "    </tr>\n",
       "    <tr>\n",
       "      <th>2</th>\n",
       "      <td>Dining in <font color = green>Red</font> Lobster is dining in my comfort zone. Going back to 1977, I have been a Red Lobster fan. In my early forties, I continue to be a Red Lobster fan. In 35 years I never got tired of it. So, it is with little surprise that when we visited Phoenix that we would dine in a Red Lobster. For whatever reason, the Cactus Road Red Lobster (near Paradise Valley Mall) was dead on a Friday night. It was the first time in a while that when I visited a Red Lobster that a wait to be seated was nonexistent. If there was a wait, I'm sure that the usual lobster tank would have occupied me for a few minutes. As soon as I saw the \"All You Can Eat Shrimp special\" on the menu, I was decided. The shrimp special is no joke. There is a choice of four shrimps including shrimp scampi, fried shrimp, and shrimp with linguini. I'll be the first to admit that Red Lobster seafood isn't Wolfgang Puck Gang quality at the same time that I'll admit that it is far better than frozen foods seafood or a burger served in a casual restaurant chain. It wasn't just the all you can eat shrimp and bottomless soda that makes this a good deal for approximately $20. It was also the salad with dressing and house bread. Red Lobster's menu features many entrees that are affordable. I just happened to hit Red Lobster when they featured the \"All You Can Eat Shrimp.\" If it had been another time of the year, I would have ordered shrimp linguini, which comes with a salad and bread. I had zero complaints about the service. Our Waitress was prompt with the refills at the exact time that she did not rush us. Dining in Red Lobster is dining in my comfort zone. As long as I am living and have some green in my pocket, I will return to a Red Lobster throughout the year.</td>\n",
       "      <td>Dining in <font color = red>Flushed</font> Lobster is dining in my comfort zone. Going back to 1977, I have been a Red Lobster fan. In my early forties, I continue to be a Red Lobster fan. In 35 years I never got tired of it. So, it is with little surprise that when we visited Phoenix that we would dine in a Red Lobster. For whatever reason, the Cactus Road Red Lobster (near Paradise Valley Mall) was dead on a Friday night. It was the first time in a while that when I visited a Red Lobster that a wait to be seated was nonexistent. If there was a wait, I'm sure that the usual lobster tank would have occupied me for a few minutes. As soon as I saw the \"All You Can Eat Shrimp special\" on the menu, I was decided. The shrimp special is no joke. There is a choice of four shrimps including shrimp scampi, fried shrimp, and shrimp with linguini. I'll be the first to admit that Red Lobster seafood isn't Wolfgang Puck Gang quality at the same time that I'll admit that it is far better than frozen foods seafood or a burger served in a casual restaurant chain. It wasn't just the all you can eat shrimp and bottomless soda that makes this a good deal for approximately $20. It was also the salad with dressing and house bread. Red Lobster's menu features many entrees that are affordable. I just happened to hit Red Lobster when they featured the \"All You Can Eat Shrimp.\" If it had been another time of the year, I would have ordered shrimp linguini, which comes with a salad and bread. I had zero complaints about the service. Our Waitress was prompt with the refills at the exact time that she did not rush us. Dining in Red Lobster is dining in my comfort zone. As long as I am living and have some green in my pocket, I will return to a Red Lobster throughout the year.</td>\n",
       "    </tr>\n",
       "    <tr>\n",
       "      <th>3</th>\n",
       "      <td>Lots of great reviews for a reason. There is an undeserved 1-star on here because of lack of 'authenticity' and the fact that they gave the user a fork. <font color = green>Well</font>, guess what--I've been given forks at sushi restaurants that were fantastic. Some people don't know how to eat Ethiopian and that's fine. One thing you should definitely do is read the blurb on the front of the menu. Not only is it really interesting (the restaurant is actually named after an ancient church that was excavated) but it gives you helpful background on what you're about to get in to. Like other users note, injera (en-jee-rah) is weird. Looks like a sponge, feels like rubber, tastes like a sour sock. So, you get why Ethiopians eat it smothered in stuffs. Luckily, the stuffs are hella tasty, and vegetarian/vegan friendly. I'd recommend the spicy stuff (No. 9 was my favorite) but anything cold can get kind of odd. Lots of lentils are served here, and you can even buy the Lalibela brand at Whole Foods. What else can I say, the service was awesome, the food was unique and reasonably priced. If it's between you and one other person I'd probably only get three entrees, they are pretty big despite what the server will probably say. I didn't give five stars because I've only been once. Try it out soon.</td>\n",
       "      <td>Lots of great reviews for a reason. There is an undeserved 1-star on here because of lack of 'authenticity' and the fact that they gave the user a fork. <font color = red>Alright</font>, guess what--I've been given forks at sushi restaurants that were fantastic. Some people don't know how to eat Ethiopian and that's fine. One thing you should definitely do is read the blurb on the front of the menu. Not only is it really interesting (the restaurant is actually named after an ancient church that was excavated) but it gives you helpful background on what you're about to get in to. Like other users note, injera (en-jee-rah) is weird. Looks like a sponge, feels like rubber, tastes like a sour sock. So, you get why Ethiopians eat it smothered in stuffs. Luckily, the stuffs are hella tasty, and vegetarian/vegan friendly. I'd recommend the spicy stuff (No. 9 was my favorite) but anything cold can get kind of odd. Lots of lentils are served here, and you can even buy the Lalibela brand at Whole Foods. What else can I say, the service was awesome, the food was unique and reasonably priced. If it's between you and one other person I'd probably only get three entrees, they are pretty big despite what the server will probably say. I didn't give five stars because I've only been once. Try it out soon.</td>\n",
       "    </tr>\n",
       "    <tr>\n",
       "      <th>4</th>\n",
       "      <td><font color = red>Worst</font> hot dog ever.</td>\n",
       "      <td><font color = green>Grandest</font> hot dog ever.</td>\n",
       "    </tr>\n",
       "    <tr>\n",
       "      <th>5</th>\n",
       "      <td>For those parents who need to take kids in for their first haircut, or one of the first few haircuts, I strongly recommend a place like this. Cool <font color = green>Cuts</font> has a nice play area for kids while they wait including video game stations for the older kids. A basic cut is $16.95 which is average. You can find cheaper prices at Stupidcuts and Hateclips, but you will make up the difference by waiting at least an hour for a moron to cut your child's hair badly, and your child being scared to death in the process. Spend a few bucks more and go to a shop that specializes in kids. The kids get to sit in a regular chair or a special car or airplane chair and watch a video from a decent selection while the snippers do their work. My little boy just had his third haircut ever, and Maryam (sic) did a great job. I think she set the land speed record for cutting hair. He was seated and done within 5 minutes, and all that while having a screaming fit the way only an 18 month old boy from my family can do. They will use scissors if the child can stand it, and clippers if she has a squirmer. I recommend calling ahead for a reservation or you will have to wait (or shop with your wife while waiting!).</td>\n",
       "      <td>For those parents who need to take kids in for their first haircut, or one of the first few haircuts, I strongly recommend a place like this. Cool <font color = red>Cutback</font> has a nice play area for kids while they wait including video game stations for the older kids. A basic cut is $16.95 which is average. You can find cheaper prices at Stupidcuts and Hateclips, but you will make up the difference by waiting at least an hour for a moron to cut your child's hair badly, and your child being scared to death in the process. Spend a few bucks more and go to a shop that specializes in kids. The kids get to sit in a regular chair or a special car or airplane chair and watch a video from a decent selection while the snippers do their work. My little boy just had his third haircut ever, and Maryam (sic) did a great job. I think she set the land speed record for cutting hair. He was seated and done within 5 minutes, and all that while having a screaming fit the way only an 18 month old boy from my family can do. They will use scissors if the child can stand it, and clippers if she has a squirmer. I recommend calling ahead for a reservation or you will have to wait (or shop with your wife while waiting!).</td>\n",
       "    </tr>\n",
       "    <tr>\n",
       "      <th>6</th>\n",
       "      <td>I went to Ramsay's steak at the Paris for my birthday and we loved it. This time in Vegas we were looking for a light lunch and wanted to try Ramsay's pub and grill. We watch Hells Kitchen so we knew it existed. It is within the Cesar's palace. <font color = red>Nice</font> decor. I ordered a burger, nothing fancy. It took more than one hour for my girlfriend and I to get our food. THe waitress disappeared for more than 45 min, when she finally came back she was worried that we did not get our food yet, eventually the manager came to apologize as well and to offer us a round of drink assuring that food was on its way. Another 15-20 min later, we finally got our order, it looked great however my patty was not cooked... simply grilled on the outside and raw on the inside, it was funny to see that considering the show that Gordon puts on in Hells Kitchen over uncooked meat... I mentioned to the waitress and the manager who did not charge us for my dish. They offered to order a new one but at this point the quick lunch turned into a 2 hours bad experience and we wanted to get out. I think the staff handled the situation properly, some might have yelled a little more and maybe ask for more comps... This was certainly a bad experience overall, I am sure however it does not reflect the standards of the restaurant... I hope. but with so many other places in Vegas I doubt I will give it another shot.... I give two stars for the staff's reaction, even slow, at least they tried to do something... and for the beer I was drinking that I thought was great !</td>\n",
       "      <td>I went to Ramsay's steak at the Paris for my birthday and we loved it. This time in Vegas we were looking for a light lunch and wanted to try Ramsay's pub and grill. We watch Hells Kitchen so we knew it existed. It is within the Cesar's palace. <font color = green>Delightful</font> decor. I ordered a burger, nothing fancy. It took more than one hour for my girlfriend and I to get our food. THe waitress disappeared for more than 45 min, when she finally came back she was worried that we did not get our food yet, eventually the manager came to apologize as well and to offer us a round of drink assuring that food was on its way. Another 15-20 min later, we finally got our order, it looked great however my patty was not cooked... simply grilled on the outside and raw on the inside, it was funny to see that considering the show that Gordon puts on in Hells Kitchen over uncooked meat... I mentioned to the waitress and the manager who did not charge us for my dish. They offered to order a new one but at this point the quick lunch turned into a 2 hours bad experience and we wanted to get out. I think the staff handled the situation properly, some might have yelled a little more and maybe ask for more comps... This was certainly a bad experience overall, I am sure however it does not reflect the standards of the restaurant... I hope. but with so many other places in Vegas I doubt I will give it another shot.... I give two stars for the staff's reaction, even slow, at least they tried to do something... and for the beer I was drinking that I thought was great !</td>\n",
       "    </tr>\n",
       "    <tr>\n",
       "      <th>7</th>\n",
       "      <td><font color = red>Great</font> name, but the beer is insipid, bland, and served in plastic pitchers. Yuck. College greeksters might dig it, but anyone with an actual palate will be repelled. Costly, boring, feh.</td>\n",
       "      <td><font color = green>Phenomenal</font> name, but the beer is insipid, bland, and served in plastic pitchers. Yuck. College greeksters might dig it, but anyone with an actual palate will be repelled. Costly, boring, feh.</td>\n",
       "    </tr>\n",
       "    <tr>\n",
       "      <th>8</th>\n",
       "      <td><font color = green>Lauren</font> R. did a great job explaining how these bad boys are served! She's right on the money and so are these! Seriously, some of the best hot dogs in town are here.. not topped with bacon but wrapped in bacon.. the hot dogs are not cooked on site but at a local commissary where they can legally cook bacon wrapped hot dogs. It is very much illegal not only in Arizona but in California to cook hot dogs on the street in this manor. In fact there was a lady in LA who was actually arrested for cooking and serving them this way. Anyway, enough with the education.. stop by and eat one, keep this cart going, amazing hot dogs and friendly people running this one!! Oh and they have real Mexican coke, with sugar, no HFCS!</td>\n",
       "      <td><font color = red>Lorraine</font> R. did a great job explaining how these bad boys are served! She's right on the money and so are these! Seriously, some of the best hot dogs in town are here.. not topped with bacon but wrapped in bacon.. the hot dogs are not cooked on site but at a local commissary where they can legally cook bacon wrapped hot dogs. It is very much illegal not only in Arizona but in California to cook hot dogs on the street in this manor. In fact there was a lady in LA who was actually arrested for cooking and serving them this way. Anyway, enough with the education.. stop by and eat one, keep this cart going, amazing hot dogs and friendly people running this one!! Oh and they have real Mexican coke, with sugar, no HFCS!</td>\n",
       "    </tr>\n",
       "    <tr>\n",
       "      <th>9</th>\n",
       "      <td><font color = red>Awesome</font> atmosphere and design. Unfortunately the food doesn't keep up with the ambiance. Prices were high for pre-made food. Throw a chef in here and it could be an amazing spot.</td>\n",
       "      <td><font color = green>Sublime</font> atmosphere and design. Unfortunately the food doesn't keep up with the ambiance. Prices were high for pre-made food. Throw a chef in here and it could be an amazing spot.</td>\n",
       "    </tr>\n",
       "  </tbody>\n",
       "</table>"
      ],
      "text/plain": [
       "<IPython.core.display.HTML object>"
      ]
     },
     "metadata": {},
     "output_type": "display_data"
    }
   ],
   "source": [
    "import pandas as pd\n",
    "pd.options.display.max_colwidth = 480 # increase column width so we can actually read the examples\n",
    "\n",
    "from IPython.core.display import display, HTML\n",
    "display(HTML(logger.df[['passage_1', 'passage_2']].to_html(escape=False)))"
   ]
  },
  {
   "cell_type": "markdown",
   "metadata": {},
   "source": [
    "### Conclusion\n",
    "\n",
    "Our constraint seems to have done its job: it filtered out attacks that did not swap out a named entity for another, according to the NLTK named entity detector. However, we can see some problems inherent in the detector: it often thinks the first word of a given sentence is a named entity, probably due to capitalization. (This is why \"Awesome atmosphere\" can be replaced by \"Sublime atmosphere\" and still fulfill our constraint; NLTK is telling us that both of those are proper nouns, some specific named type of atmosphere.) \n",
    "\n",
    "We did manage to produce some nice adversarial examples! \"Cool Cuts\" hair cuttery became \"Cool Cutback\" and the entire prediction  (of 298 words) flipped from positive to negative. \"Red Lobster\" became \"Flushed Lobster\" and the prediction (of 337 words) also shifted from positive to negative."
   ]
  }
 ],
 "metadata": {
  "kernelspec": {
   "display_name": "Python 3",
   "language": "python",
   "name": "python3"
  },
  "language_info": {
   "codemirror_mode": {
    "name": "ipython",
    "version": 3
   },
   "file_extension": ".py",
   "mimetype": "text/x-python",
   "name": "python",
   "nbconvert_exporter": "python",
   "pygments_lexer": "ipython3",
   "version": "3.6.3"
  }
 },
 "nbformat": 4,
 "nbformat_minor": 2
}
